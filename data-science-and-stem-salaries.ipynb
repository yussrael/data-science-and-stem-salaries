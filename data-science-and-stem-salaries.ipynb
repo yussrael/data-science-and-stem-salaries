{
 "cells": [
  {
   "cell_type": "code",
   "execution_count": 1,
   "id": "5807160d",
   "metadata": {
    "_cell_guid": "b1076dfc-b9ad-4769-8c92-a6c4dae69d19",
    "_uuid": "8f2839f25d086af736a60e9eeb907d3b93b6e0e5",
    "execution": {
     "iopub.execute_input": "2022-08-26T19:58:24.047051Z",
     "iopub.status.busy": "2022-08-26T19:58:24.046470Z",
     "iopub.status.idle": "2022-08-26T19:58:24.064054Z",
     "shell.execute_reply": "2022-08-26T19:58:24.063124Z"
    },
    "papermill": {
     "duration": 0.027188,
     "end_time": "2022-08-26T19:58:24.067440",
     "exception": false,
     "start_time": "2022-08-26T19:58:24.040252",
     "status": "completed"
    },
    "tags": []
   },
   "outputs": [
    {
     "name": "stdout",
     "output_type": "stream",
     "text": [
      "/kaggle/input/data-science-and-stem-salaries/Levels_Fyi_Salary_Data.csv\n"
     ]
    }
   ],
   "source": [
    "# This Python 3 environment comes with many helpful analytics libraries installed\n",
    "# It is defined by the kaggle/python Docker image: https://github.com/kaggle/docker-python\n",
    "# For example, here's several helpful packages to load\n",
    "\n",
    "import numpy as np # linear algebra\n",
    "import pandas as pd # data processing, CSV file I/O (e.g. pd.read_csv)\n",
    "import matplotlib.pyplot as plt\n",
    "\n",
    "# Input data files are available in the read-only \"../input/\" directory\n",
    "# For example, running this (by clicking run or pressing Shift+Enter) will list all files under the input directory\n",
    "\n",
    "import os\n",
    "for dirname, _, filenames in os.walk('/kaggle/input'):\n",
    "    for filename in filenames:\n",
    "        print(os.path.join(dirname, filename))\n",
    "\n",
    "# You can write up to 20GB to the current directory (/kaggle/working/) that gets preserved as output when you create a version using \"Save & Run All\" \n",
    "# You can also write temporary files to /kaggle/temp/, but they won't be saved outside of the current session"
   ]
  },
  {
   "cell_type": "code",
   "execution_count": 2,
   "id": "ec4a2450",
   "metadata": {
    "execution": {
     "iopub.execute_input": "2022-08-26T19:58:24.077684Z",
     "iopub.status.busy": "2022-08-26T19:58:24.077135Z",
     "iopub.status.idle": "2022-08-26T19:58:24.457883Z",
     "shell.execute_reply": "2022-08-26T19:58:24.456690Z"
    },
    "papermill": {
     "duration": 0.388042,
     "end_time": "2022-08-26T19:58:24.460091",
     "exception": false,
     "start_time": "2022-08-26T19:58:24.072049",
     "status": "completed"
    },
    "tags": []
   },
   "outputs": [
    {
     "data": {
      "text/html": [
       "<div>\n",
       "<style scoped>\n",
       "    .dataframe tbody tr th:only-of-type {\n",
       "        vertical-align: middle;\n",
       "    }\n",
       "\n",
       "    .dataframe tbody tr th {\n",
       "        vertical-align: top;\n",
       "    }\n",
       "\n",
       "    .dataframe thead th {\n",
       "        text-align: right;\n",
       "    }\n",
       "</style>\n",
       "<table border=\"1\" class=\"dataframe\">\n",
       "  <thead>\n",
       "    <tr style=\"text-align: right;\">\n",
       "      <th></th>\n",
       "      <th>timestamp</th>\n",
       "      <th>company</th>\n",
       "      <th>level</th>\n",
       "      <th>title</th>\n",
       "      <th>totalyearlycompensation</th>\n",
       "      <th>location</th>\n",
       "      <th>yearsofexperience</th>\n",
       "      <th>yearsatcompany</th>\n",
       "      <th>tag</th>\n",
       "      <th>basesalary</th>\n",
       "      <th>...</th>\n",
       "      <th>Doctorate_Degree</th>\n",
       "      <th>Highschool</th>\n",
       "      <th>Some_College</th>\n",
       "      <th>Race_Asian</th>\n",
       "      <th>Race_White</th>\n",
       "      <th>Race_Two_Or_More</th>\n",
       "      <th>Race_Black</th>\n",
       "      <th>Race_Hispanic</th>\n",
       "      <th>Race</th>\n",
       "      <th>Education</th>\n",
       "    </tr>\n",
       "  </thead>\n",
       "  <tbody>\n",
       "    <tr>\n",
       "      <th>0</th>\n",
       "      <td>6/7/2017 11:33:27</td>\n",
       "      <td>Oracle</td>\n",
       "      <td>L3</td>\n",
       "      <td>Product Manager</td>\n",
       "      <td>127000</td>\n",
       "      <td>Redwood City, CA</td>\n",
       "      <td>1.5</td>\n",
       "      <td>1.5</td>\n",
       "      <td>NaN</td>\n",
       "      <td>107000.0</td>\n",
       "      <td>...</td>\n",
       "      <td>0</td>\n",
       "      <td>0</td>\n",
       "      <td>0</td>\n",
       "      <td>0</td>\n",
       "      <td>0</td>\n",
       "      <td>0</td>\n",
       "      <td>0</td>\n",
       "      <td>0</td>\n",
       "      <td>NaN</td>\n",
       "      <td>NaN</td>\n",
       "    </tr>\n",
       "    <tr>\n",
       "      <th>1</th>\n",
       "      <td>6/10/2017 17:11:29</td>\n",
       "      <td>eBay</td>\n",
       "      <td>SE 2</td>\n",
       "      <td>Software Engineer</td>\n",
       "      <td>100000</td>\n",
       "      <td>San Francisco, CA</td>\n",
       "      <td>5.0</td>\n",
       "      <td>3.0</td>\n",
       "      <td>NaN</td>\n",
       "      <td>0.0</td>\n",
       "      <td>...</td>\n",
       "      <td>0</td>\n",
       "      <td>0</td>\n",
       "      <td>0</td>\n",
       "      <td>0</td>\n",
       "      <td>0</td>\n",
       "      <td>0</td>\n",
       "      <td>0</td>\n",
       "      <td>0</td>\n",
       "      <td>NaN</td>\n",
       "      <td>NaN</td>\n",
       "    </tr>\n",
       "    <tr>\n",
       "      <th>2</th>\n",
       "      <td>6/11/2017 14:53:57</td>\n",
       "      <td>Amazon</td>\n",
       "      <td>L7</td>\n",
       "      <td>Product Manager</td>\n",
       "      <td>310000</td>\n",
       "      <td>Seattle, WA</td>\n",
       "      <td>8.0</td>\n",
       "      <td>0.0</td>\n",
       "      <td>NaN</td>\n",
       "      <td>155000.0</td>\n",
       "      <td>...</td>\n",
       "      <td>0</td>\n",
       "      <td>0</td>\n",
       "      <td>0</td>\n",
       "      <td>0</td>\n",
       "      <td>0</td>\n",
       "      <td>0</td>\n",
       "      <td>0</td>\n",
       "      <td>0</td>\n",
       "      <td>NaN</td>\n",
       "      <td>NaN</td>\n",
       "    </tr>\n",
       "    <tr>\n",
       "      <th>3</th>\n",
       "      <td>6/17/2017 0:23:14</td>\n",
       "      <td>Apple</td>\n",
       "      <td>M1</td>\n",
       "      <td>Software Engineering Manager</td>\n",
       "      <td>372000</td>\n",
       "      <td>Sunnyvale, CA</td>\n",
       "      <td>7.0</td>\n",
       "      <td>5.0</td>\n",
       "      <td>NaN</td>\n",
       "      <td>157000.0</td>\n",
       "      <td>...</td>\n",
       "      <td>0</td>\n",
       "      <td>0</td>\n",
       "      <td>0</td>\n",
       "      <td>0</td>\n",
       "      <td>0</td>\n",
       "      <td>0</td>\n",
       "      <td>0</td>\n",
       "      <td>0</td>\n",
       "      <td>NaN</td>\n",
       "      <td>NaN</td>\n",
       "    </tr>\n",
       "    <tr>\n",
       "      <th>4</th>\n",
       "      <td>6/20/2017 10:58:51</td>\n",
       "      <td>Microsoft</td>\n",
       "      <td>60</td>\n",
       "      <td>Software Engineer</td>\n",
       "      <td>157000</td>\n",
       "      <td>Mountain View, CA</td>\n",
       "      <td>5.0</td>\n",
       "      <td>3.0</td>\n",
       "      <td>NaN</td>\n",
       "      <td>0.0</td>\n",
       "      <td>...</td>\n",
       "      <td>0</td>\n",
       "      <td>0</td>\n",
       "      <td>0</td>\n",
       "      <td>0</td>\n",
       "      <td>0</td>\n",
       "      <td>0</td>\n",
       "      <td>0</td>\n",
       "      <td>0</td>\n",
       "      <td>NaN</td>\n",
       "      <td>NaN</td>\n",
       "    </tr>\n",
       "  </tbody>\n",
       "</table>\n",
       "<p>5 rows × 29 columns</p>\n",
       "</div>"
      ],
      "text/plain": [
       "            timestamp    company level                         title  \\\n",
       "0   6/7/2017 11:33:27     Oracle    L3               Product Manager   \n",
       "1  6/10/2017 17:11:29       eBay  SE 2             Software Engineer   \n",
       "2  6/11/2017 14:53:57     Amazon    L7               Product Manager   \n",
       "3   6/17/2017 0:23:14      Apple    M1  Software Engineering Manager   \n",
       "4  6/20/2017 10:58:51  Microsoft    60             Software Engineer   \n",
       "\n",
       "   totalyearlycompensation           location  yearsofexperience  \\\n",
       "0                   127000   Redwood City, CA                1.5   \n",
       "1                   100000  San Francisco, CA                5.0   \n",
       "2                   310000        Seattle, WA                8.0   \n",
       "3                   372000      Sunnyvale, CA                7.0   \n",
       "4                   157000  Mountain View, CA                5.0   \n",
       "\n",
       "   yearsatcompany  tag  basesalary  ...  Doctorate_Degree  Highschool  \\\n",
       "0             1.5  NaN    107000.0  ...                 0           0   \n",
       "1             3.0  NaN         0.0  ...                 0           0   \n",
       "2             0.0  NaN    155000.0  ...                 0           0   \n",
       "3             5.0  NaN    157000.0  ...                 0           0   \n",
       "4             3.0  NaN         0.0  ...                 0           0   \n",
       "\n",
       "  Some_College Race_Asian  Race_White  Race_Two_Or_More  Race_Black  \\\n",
       "0            0          0           0                 0           0   \n",
       "1            0          0           0                 0           0   \n",
       "2            0          0           0                 0           0   \n",
       "3            0          0           0                 0           0   \n",
       "4            0          0           0                 0           0   \n",
       "\n",
       "   Race_Hispanic  Race  Education  \n",
       "0              0   NaN        NaN  \n",
       "1              0   NaN        NaN  \n",
       "2              0   NaN        NaN  \n",
       "3              0   NaN        NaN  \n",
       "4              0   NaN        NaN  \n",
       "\n",
       "[5 rows x 29 columns]"
      ]
     },
     "execution_count": 2,
     "metadata": {},
     "output_type": "execute_result"
    }
   ],
   "source": [
    "Data= pd.read_csv('../input/data-science-and-stem-salaries/Levels_Fyi_Salary_Data.csv')\n",
    "Data.head()"
   ]
  },
  {
   "cell_type": "code",
   "execution_count": 3,
   "id": "032d8642",
   "metadata": {
    "execution": {
     "iopub.execute_input": "2022-08-26T19:58:24.471875Z",
     "iopub.status.busy": "2022-08-26T19:58:24.471545Z",
     "iopub.status.idle": "2022-08-26T19:58:24.479192Z",
     "shell.execute_reply": "2022-08-26T19:58:24.477804Z"
    },
    "papermill": {
     "duration": 0.016456,
     "end_time": "2022-08-26T19:58:24.481504",
     "exception": false,
     "start_time": "2022-08-26T19:58:24.465048",
     "status": "completed"
    },
    "tags": []
   },
   "outputs": [
    {
     "data": {
      "text/plain": [
       "(62642, 29)"
      ]
     },
     "execution_count": 3,
     "metadata": {},
     "output_type": "execute_result"
    }
   ],
   "source": [
    "Data.shape"
   ]
  },
  {
   "cell_type": "code",
   "execution_count": 4,
   "id": "f9665a78",
   "metadata": {
    "execution": {
     "iopub.execute_input": "2022-08-26T19:58:24.492434Z",
     "iopub.status.busy": "2022-08-26T19:58:24.492058Z",
     "iopub.status.idle": "2022-08-26T19:58:24.543054Z",
     "shell.execute_reply": "2022-08-26T19:58:24.541733Z"
    },
    "papermill": {
     "duration": 0.059063,
     "end_time": "2022-08-26T19:58:24.545408",
     "exception": false,
     "start_time": "2022-08-26T19:58:24.486345",
     "status": "completed"
    },
    "tags": []
   },
   "outputs": [
    {
     "name": "stdout",
     "output_type": "stream",
     "text": [
      "<class 'pandas.core.frame.DataFrame'>\n",
      "RangeIndex: 62642 entries, 0 to 62641\n",
      "Data columns (total 29 columns):\n",
      " #   Column                   Non-Null Count  Dtype  \n",
      "---  ------                   --------------  -----  \n",
      " 0   timestamp                62642 non-null  object \n",
      " 1   company                  62637 non-null  object \n",
      " 2   level                    62523 non-null  object \n",
      " 3   title                    62642 non-null  object \n",
      " 4   totalyearlycompensation  62642 non-null  int64  \n",
      " 5   location                 62642 non-null  object \n",
      " 6   yearsofexperience        62642 non-null  float64\n",
      " 7   yearsatcompany           62642 non-null  float64\n",
      " 8   tag                      61788 non-null  object \n",
      " 9   basesalary               62642 non-null  float64\n",
      " 10  stockgrantvalue          62642 non-null  float64\n",
      " 11  bonus                    62642 non-null  float64\n",
      " 12  gender                   43102 non-null  object \n",
      " 13  otherdetails             40137 non-null  object \n",
      " 14  cityid                   62642 non-null  int64  \n",
      " 15  dmaid                    62640 non-null  float64\n",
      " 16  rowNumber                62642 non-null  int64  \n",
      " 17  Masters_Degree           62642 non-null  int64  \n",
      " 18  Bachelors_Degree         62642 non-null  int64  \n",
      " 19  Doctorate_Degree         62642 non-null  int64  \n",
      " 20  Highschool               62642 non-null  int64  \n",
      " 21  Some_College             62642 non-null  int64  \n",
      " 22  Race_Asian               62642 non-null  int64  \n",
      " 23  Race_White               62642 non-null  int64  \n",
      " 24  Race_Two_Or_More         62642 non-null  int64  \n",
      " 25  Race_Black               62642 non-null  int64  \n",
      " 26  Race_Hispanic            62642 non-null  int64  \n",
      " 27  Race                     22427 non-null  object \n",
      " 28  Education                30370 non-null  object \n",
      "dtypes: float64(6), int64(13), object(10)\n",
      "memory usage: 13.9+ MB\n"
     ]
    }
   ],
   "source": [
    "Data.info()"
   ]
  },
  {
   "cell_type": "markdown",
   "id": "e097e0cd",
   "metadata": {
    "papermill": {
     "duration": 0.004392,
     "end_time": "2022-08-26T19:58:24.554548",
     "exception": false,
     "start_time": "2022-08-26T19:58:24.550156",
     "status": "completed"
    },
    "tags": []
   },
   "source": [
    "# Missing Values"
   ]
  },
  {
   "cell_type": "code",
   "execution_count": 5,
   "id": "04e06702",
   "metadata": {
    "execution": {
     "iopub.execute_input": "2022-08-26T19:58:24.565052Z",
     "iopub.status.busy": "2022-08-26T19:58:24.564724Z",
     "iopub.status.idle": "2022-08-26T19:58:24.597764Z",
     "shell.execute_reply": "2022-08-26T19:58:24.596606Z"
    },
    "papermill": {
     "duration": 0.041299,
     "end_time": "2022-08-26T19:58:24.600204",
     "exception": false,
     "start_time": "2022-08-26T19:58:24.558905",
     "status": "completed"
    },
    "tags": []
   },
   "outputs": [
    {
     "name": "stdout",
     "output_type": "stream",
     "text": [
      "timestamp                   0.00\n",
      "company                     0.01\n",
      "level                       0.19\n",
      "title                       0.00\n",
      "totalyearlycompensation     0.00\n",
      "location                    0.00\n",
      "yearsofexperience           0.00\n",
      "yearsatcompany              0.00\n",
      "tag                         1.36\n",
      "basesalary                  0.00\n",
      "stockgrantvalue             0.00\n",
      "bonus                       0.00\n",
      "gender                     31.19\n",
      "otherdetails               35.93\n",
      "cityid                      0.00\n",
      "dmaid                       0.00\n",
      "rowNumber                   0.00\n",
      "Masters_Degree              0.00\n",
      "Bachelors_Degree            0.00\n",
      "Doctorate_Degree            0.00\n",
      "Highschool                  0.00\n",
      "Some_College                0.00\n",
      "Race_Asian                  0.00\n",
      "Race_White                  0.00\n",
      "Race_Two_Or_More            0.00\n",
      "Race_Black                  0.00\n",
      "Race_Hispanic               0.00\n",
      "Race                       64.20\n",
      "Education                  51.52\n",
      "dtype: float64\n"
     ]
    }
   ],
   "source": [
    "missing= Data.isna().sum()\n",
    "percentage=round((missing/len(Data.index))*100,2)\n",
    "print(percentage)"
   ]
  },
  {
   "cell_type": "code",
   "execution_count": 6,
   "id": "20abc8f7",
   "metadata": {
    "execution": {
     "iopub.execute_input": "2022-08-26T19:58:24.613287Z",
     "iopub.status.busy": "2022-08-26T19:58:24.612900Z",
     "iopub.status.idle": "2022-08-26T19:58:24.642622Z",
     "shell.execute_reply": "2022-08-26T19:58:24.641727Z"
    },
    "papermill": {
     "duration": 0.039134,
     "end_time": "2022-08-26T19:58:24.644591",
     "exception": false,
     "start_time": "2022-08-26T19:58:24.605457",
     "status": "completed"
    },
    "tags": []
   },
   "outputs": [
    {
     "data": {
      "text/html": [
       "<div>\n",
       "<style scoped>\n",
       "    .dataframe tbody tr th:only-of-type {\n",
       "        vertical-align: middle;\n",
       "    }\n",
       "\n",
       "    .dataframe tbody tr th {\n",
       "        vertical-align: top;\n",
       "    }\n",
       "\n",
       "    .dataframe thead th {\n",
       "        text-align: right;\n",
       "    }\n",
       "</style>\n",
       "<table border=\"1\" class=\"dataframe\">\n",
       "  <thead>\n",
       "    <tr style=\"text-align: right;\">\n",
       "      <th></th>\n",
       "      <th>timestamp</th>\n",
       "      <th>company</th>\n",
       "      <th>level</th>\n",
       "      <th>title</th>\n",
       "      <th>totalyearlycompensation</th>\n",
       "      <th>location</th>\n",
       "      <th>yearsofexperience</th>\n",
       "      <th>yearsatcompany</th>\n",
       "      <th>tag</th>\n",
       "      <th>basesalary</th>\n",
       "      <th>...</th>\n",
       "      <th>Masters_Degree</th>\n",
       "      <th>Bachelors_Degree</th>\n",
       "      <th>Doctorate_Degree</th>\n",
       "      <th>Highschool</th>\n",
       "      <th>Some_College</th>\n",
       "      <th>Race_Asian</th>\n",
       "      <th>Race_White</th>\n",
       "      <th>Race_Two_Or_More</th>\n",
       "      <th>Race_Black</th>\n",
       "      <th>Race_Hispanic</th>\n",
       "    </tr>\n",
       "  </thead>\n",
       "  <tbody>\n",
       "    <tr>\n",
       "      <th>0</th>\n",
       "      <td>6/7/2017 11:33:27</td>\n",
       "      <td>Oracle</td>\n",
       "      <td>L3</td>\n",
       "      <td>Product Manager</td>\n",
       "      <td>127000</td>\n",
       "      <td>Redwood City, CA</td>\n",
       "      <td>1.5</td>\n",
       "      <td>1.5</td>\n",
       "      <td>NaN</td>\n",
       "      <td>107000.0</td>\n",
       "      <td>...</td>\n",
       "      <td>0</td>\n",
       "      <td>0</td>\n",
       "      <td>0</td>\n",
       "      <td>0</td>\n",
       "      <td>0</td>\n",
       "      <td>0</td>\n",
       "      <td>0</td>\n",
       "      <td>0</td>\n",
       "      <td>0</td>\n",
       "      <td>0</td>\n",
       "    </tr>\n",
       "    <tr>\n",
       "      <th>1</th>\n",
       "      <td>6/10/2017 17:11:29</td>\n",
       "      <td>eBay</td>\n",
       "      <td>SE 2</td>\n",
       "      <td>Software Engineer</td>\n",
       "      <td>100000</td>\n",
       "      <td>San Francisco, CA</td>\n",
       "      <td>5.0</td>\n",
       "      <td>3.0</td>\n",
       "      <td>NaN</td>\n",
       "      <td>0.0</td>\n",
       "      <td>...</td>\n",
       "      <td>0</td>\n",
       "      <td>0</td>\n",
       "      <td>0</td>\n",
       "      <td>0</td>\n",
       "      <td>0</td>\n",
       "      <td>0</td>\n",
       "      <td>0</td>\n",
       "      <td>0</td>\n",
       "      <td>0</td>\n",
       "      <td>0</td>\n",
       "    </tr>\n",
       "    <tr>\n",
       "      <th>2</th>\n",
       "      <td>6/11/2017 14:53:57</td>\n",
       "      <td>Amazon</td>\n",
       "      <td>L7</td>\n",
       "      <td>Product Manager</td>\n",
       "      <td>310000</td>\n",
       "      <td>Seattle, WA</td>\n",
       "      <td>8.0</td>\n",
       "      <td>0.0</td>\n",
       "      <td>NaN</td>\n",
       "      <td>155000.0</td>\n",
       "      <td>...</td>\n",
       "      <td>0</td>\n",
       "      <td>0</td>\n",
       "      <td>0</td>\n",
       "      <td>0</td>\n",
       "      <td>0</td>\n",
       "      <td>0</td>\n",
       "      <td>0</td>\n",
       "      <td>0</td>\n",
       "      <td>0</td>\n",
       "      <td>0</td>\n",
       "    </tr>\n",
       "    <tr>\n",
       "      <th>3</th>\n",
       "      <td>6/17/2017 0:23:14</td>\n",
       "      <td>Apple</td>\n",
       "      <td>M1</td>\n",
       "      <td>Software Engineering Manager</td>\n",
       "      <td>372000</td>\n",
       "      <td>Sunnyvale, CA</td>\n",
       "      <td>7.0</td>\n",
       "      <td>5.0</td>\n",
       "      <td>NaN</td>\n",
       "      <td>157000.0</td>\n",
       "      <td>...</td>\n",
       "      <td>0</td>\n",
       "      <td>0</td>\n",
       "      <td>0</td>\n",
       "      <td>0</td>\n",
       "      <td>0</td>\n",
       "      <td>0</td>\n",
       "      <td>0</td>\n",
       "      <td>0</td>\n",
       "      <td>0</td>\n",
       "      <td>0</td>\n",
       "    </tr>\n",
       "    <tr>\n",
       "      <th>4</th>\n",
       "      <td>6/20/2017 10:58:51</td>\n",
       "      <td>Microsoft</td>\n",
       "      <td>60</td>\n",
       "      <td>Software Engineer</td>\n",
       "      <td>157000</td>\n",
       "      <td>Mountain View, CA</td>\n",
       "      <td>5.0</td>\n",
       "      <td>3.0</td>\n",
       "      <td>NaN</td>\n",
       "      <td>0.0</td>\n",
       "      <td>...</td>\n",
       "      <td>0</td>\n",
       "      <td>0</td>\n",
       "      <td>0</td>\n",
       "      <td>0</td>\n",
       "      <td>0</td>\n",
       "      <td>0</td>\n",
       "      <td>0</td>\n",
       "      <td>0</td>\n",
       "      <td>0</td>\n",
       "      <td>0</td>\n",
       "    </tr>\n",
       "  </tbody>\n",
       "</table>\n",
       "<p>5 rows × 25 columns</p>\n",
       "</div>"
      ],
      "text/plain": [
       "            timestamp    company level                         title  \\\n",
       "0   6/7/2017 11:33:27     Oracle    L3               Product Manager   \n",
       "1  6/10/2017 17:11:29       eBay  SE 2             Software Engineer   \n",
       "2  6/11/2017 14:53:57     Amazon    L7               Product Manager   \n",
       "3   6/17/2017 0:23:14      Apple    M1  Software Engineering Manager   \n",
       "4  6/20/2017 10:58:51  Microsoft    60             Software Engineer   \n",
       "\n",
       "   totalyearlycompensation           location  yearsofexperience  \\\n",
       "0                   127000   Redwood City, CA                1.5   \n",
       "1                   100000  San Francisco, CA                5.0   \n",
       "2                   310000        Seattle, WA                8.0   \n",
       "3                   372000      Sunnyvale, CA                7.0   \n",
       "4                   157000  Mountain View, CA                5.0   \n",
       "\n",
       "   yearsatcompany  tag  basesalary  ...  Masters_Degree  Bachelors_Degree  \\\n",
       "0             1.5  NaN    107000.0  ...               0                 0   \n",
       "1             3.0  NaN         0.0  ...               0                 0   \n",
       "2             0.0  NaN    155000.0  ...               0                 0   \n",
       "3             5.0  NaN    157000.0  ...               0                 0   \n",
       "4             3.0  NaN         0.0  ...               0                 0   \n",
       "\n",
       "   Doctorate_Degree  Highschool  Some_College  Race_Asian  Race_White  \\\n",
       "0                 0           0             0           0           0   \n",
       "1                 0           0             0           0           0   \n",
       "2                 0           0             0           0           0   \n",
       "3                 0           0             0           0           0   \n",
       "4                 0           0             0           0           0   \n",
       "\n",
       "   Race_Two_Or_More  Race_Black  Race_Hispanic  \n",
       "0                 0           0              0  \n",
       "1                 0           0              0  \n",
       "2                 0           0              0  \n",
       "3                 0           0              0  \n",
       "4                 0           0              0  \n",
       "\n",
       "[5 rows x 25 columns]"
      ]
     },
     "execution_count": 6,
     "metadata": {},
     "output_type": "execute_result"
    }
   ],
   "source": [
    "Data= Data.drop(['gender','otherdetails','Race','Education'], axis=1)\n",
    "Data.head()"
   ]
  },
  {
   "cell_type": "code",
   "execution_count": 7,
   "id": "57d427f9",
   "metadata": {
    "execution": {
     "iopub.execute_input": "2022-08-26T19:58:24.656015Z",
     "iopub.status.busy": "2022-08-26T19:58:24.655295Z",
     "iopub.status.idle": "2022-08-26T19:58:24.679028Z",
     "shell.execute_reply": "2022-08-26T19:58:24.678062Z"
    },
    "papermill": {
     "duration": 0.031949,
     "end_time": "2022-08-26T19:58:24.681426",
     "exception": false,
     "start_time": "2022-08-26T19:58:24.649477",
     "status": "completed"
    },
    "tags": []
   },
   "outputs": [
    {
     "data": {
      "text/plain": [
       "timestamp                  0.00\n",
       "company                    0.01\n",
       "level                      0.19\n",
       "title                      0.00\n",
       "totalyearlycompensation    0.00\n",
       "location                   0.00\n",
       "yearsofexperience          0.00\n",
       "yearsatcompany             0.00\n",
       "tag                        1.36\n",
       "basesalary                 0.00\n",
       "stockgrantvalue            0.00\n",
       "bonus                      0.00\n",
       "cityid                     0.00\n",
       "dmaid                      0.00\n",
       "rowNumber                  0.00\n",
       "Masters_Degree             0.00\n",
       "Bachelors_Degree           0.00\n",
       "Doctorate_Degree           0.00\n",
       "Highschool                 0.00\n",
       "Some_College               0.00\n",
       "Race_Asian                 0.00\n",
       "Race_White                 0.00\n",
       "Race_Two_Or_More           0.00\n",
       "Race_Black                 0.00\n",
       "Race_Hispanic              0.00\n",
       "dtype: float64"
      ]
     },
     "execution_count": 7,
     "metadata": {},
     "output_type": "execute_result"
    }
   ],
   "source": [
    "round((Data.isna().sum()/len(Data.index))*100,2)"
   ]
  },
  {
   "cell_type": "code",
   "execution_count": 8,
   "id": "a4b84a4e",
   "metadata": {
    "execution": {
     "iopub.execute_input": "2022-08-26T19:58:24.693695Z",
     "iopub.status.busy": "2022-08-26T19:58:24.693102Z",
     "iopub.status.idle": "2022-08-26T19:58:24.727081Z",
     "shell.execute_reply": "2022-08-26T19:58:24.726119Z"
    },
    "papermill": {
     "duration": 0.042448,
     "end_time": "2022-08-26T19:58:24.729223",
     "exception": false,
     "start_time": "2022-08-26T19:58:24.686775",
     "status": "completed"
    },
    "tags": []
   },
   "outputs": [
    {
     "data": {
      "text/html": [
       "<div>\n",
       "<style scoped>\n",
       "    .dataframe tbody tr th:only-of-type {\n",
       "        vertical-align: middle;\n",
       "    }\n",
       "\n",
       "    .dataframe tbody tr th {\n",
       "        vertical-align: top;\n",
       "    }\n",
       "\n",
       "    .dataframe thead th {\n",
       "        text-align: right;\n",
       "    }\n",
       "</style>\n",
       "<table border=\"1\" class=\"dataframe\">\n",
       "  <thead>\n",
       "    <tr style=\"text-align: right;\">\n",
       "      <th></th>\n",
       "      <th>timestamp</th>\n",
       "      <th>company</th>\n",
       "      <th>level</th>\n",
       "      <th>title</th>\n",
       "      <th>totalyearlycompensation</th>\n",
       "      <th>location</th>\n",
       "      <th>yearsofexperience</th>\n",
       "      <th>yearsatcompany</th>\n",
       "      <th>tag</th>\n",
       "      <th>basesalary</th>\n",
       "      <th>...</th>\n",
       "      <th>Masters_Degree</th>\n",
       "      <th>Bachelors_Degree</th>\n",
       "      <th>Doctorate_Degree</th>\n",
       "      <th>Highschool</th>\n",
       "      <th>Some_College</th>\n",
       "      <th>Race_Asian</th>\n",
       "      <th>Race_White</th>\n",
       "      <th>Race_Two_Or_More</th>\n",
       "      <th>Race_Black</th>\n",
       "      <th>Race_Hispanic</th>\n",
       "    </tr>\n",
       "  </thead>\n",
       "  <tbody>\n",
       "    <tr>\n",
       "      <th>0</th>\n",
       "      <td>6/7/2017 11:33:27</td>\n",
       "      <td>Oracle</td>\n",
       "      <td>L3</td>\n",
       "      <td>Product Manager</td>\n",
       "      <td>127000</td>\n",
       "      <td>Redwood City, CA</td>\n",
       "      <td>1.5</td>\n",
       "      <td>1.5</td>\n",
       "      <td>Full Stack</td>\n",
       "      <td>107000.0</td>\n",
       "      <td>...</td>\n",
       "      <td>0</td>\n",
       "      <td>0</td>\n",
       "      <td>0</td>\n",
       "      <td>0</td>\n",
       "      <td>0</td>\n",
       "      <td>0</td>\n",
       "      <td>0</td>\n",
       "      <td>0</td>\n",
       "      <td>0</td>\n",
       "      <td>0</td>\n",
       "    </tr>\n",
       "    <tr>\n",
       "      <th>1</th>\n",
       "      <td>6/10/2017 17:11:29</td>\n",
       "      <td>eBay</td>\n",
       "      <td>SE 2</td>\n",
       "      <td>Software Engineer</td>\n",
       "      <td>100000</td>\n",
       "      <td>San Francisco, CA</td>\n",
       "      <td>5.0</td>\n",
       "      <td>3.0</td>\n",
       "      <td>Full Stack</td>\n",
       "      <td>0.0</td>\n",
       "      <td>...</td>\n",
       "      <td>0</td>\n",
       "      <td>0</td>\n",
       "      <td>0</td>\n",
       "      <td>0</td>\n",
       "      <td>0</td>\n",
       "      <td>0</td>\n",
       "      <td>0</td>\n",
       "      <td>0</td>\n",
       "      <td>0</td>\n",
       "      <td>0</td>\n",
       "    </tr>\n",
       "    <tr>\n",
       "      <th>2</th>\n",
       "      <td>6/11/2017 14:53:57</td>\n",
       "      <td>Amazon</td>\n",
       "      <td>L7</td>\n",
       "      <td>Product Manager</td>\n",
       "      <td>310000</td>\n",
       "      <td>Seattle, WA</td>\n",
       "      <td>8.0</td>\n",
       "      <td>0.0</td>\n",
       "      <td>Full Stack</td>\n",
       "      <td>155000.0</td>\n",
       "      <td>...</td>\n",
       "      <td>0</td>\n",
       "      <td>0</td>\n",
       "      <td>0</td>\n",
       "      <td>0</td>\n",
       "      <td>0</td>\n",
       "      <td>0</td>\n",
       "      <td>0</td>\n",
       "      <td>0</td>\n",
       "      <td>0</td>\n",
       "      <td>0</td>\n",
       "    </tr>\n",
       "    <tr>\n",
       "      <th>3</th>\n",
       "      <td>6/17/2017 0:23:14</td>\n",
       "      <td>Apple</td>\n",
       "      <td>M1</td>\n",
       "      <td>Software Engineering Manager</td>\n",
       "      <td>372000</td>\n",
       "      <td>Sunnyvale, CA</td>\n",
       "      <td>7.0</td>\n",
       "      <td>5.0</td>\n",
       "      <td>Full Stack</td>\n",
       "      <td>157000.0</td>\n",
       "      <td>...</td>\n",
       "      <td>0</td>\n",
       "      <td>0</td>\n",
       "      <td>0</td>\n",
       "      <td>0</td>\n",
       "      <td>0</td>\n",
       "      <td>0</td>\n",
       "      <td>0</td>\n",
       "      <td>0</td>\n",
       "      <td>0</td>\n",
       "      <td>0</td>\n",
       "    </tr>\n",
       "    <tr>\n",
       "      <th>4</th>\n",
       "      <td>6/20/2017 10:58:51</td>\n",
       "      <td>Microsoft</td>\n",
       "      <td>60</td>\n",
       "      <td>Software Engineer</td>\n",
       "      <td>157000</td>\n",
       "      <td>Mountain View, CA</td>\n",
       "      <td>5.0</td>\n",
       "      <td>3.0</td>\n",
       "      <td>Full Stack</td>\n",
       "      <td>0.0</td>\n",
       "      <td>...</td>\n",
       "      <td>0</td>\n",
       "      <td>0</td>\n",
       "      <td>0</td>\n",
       "      <td>0</td>\n",
       "      <td>0</td>\n",
       "      <td>0</td>\n",
       "      <td>0</td>\n",
       "      <td>0</td>\n",
       "      <td>0</td>\n",
       "      <td>0</td>\n",
       "    </tr>\n",
       "  </tbody>\n",
       "</table>\n",
       "<p>5 rows × 25 columns</p>\n",
       "</div>"
      ],
      "text/plain": [
       "            timestamp    company level                         title  \\\n",
       "0   6/7/2017 11:33:27     Oracle    L3               Product Manager   \n",
       "1  6/10/2017 17:11:29       eBay  SE 2             Software Engineer   \n",
       "2  6/11/2017 14:53:57     Amazon    L7               Product Manager   \n",
       "3   6/17/2017 0:23:14      Apple    M1  Software Engineering Manager   \n",
       "4  6/20/2017 10:58:51  Microsoft    60             Software Engineer   \n",
       "\n",
       "   totalyearlycompensation           location  yearsofexperience  \\\n",
       "0                   127000   Redwood City, CA                1.5   \n",
       "1                   100000  San Francisco, CA                5.0   \n",
       "2                   310000        Seattle, WA                8.0   \n",
       "3                   372000      Sunnyvale, CA                7.0   \n",
       "4                   157000  Mountain View, CA                5.0   \n",
       "\n",
       "   yearsatcompany         tag  basesalary  ...  Masters_Degree  \\\n",
       "0             1.5  Full Stack    107000.0  ...               0   \n",
       "1             3.0  Full Stack         0.0  ...               0   \n",
       "2             0.0  Full Stack    155000.0  ...               0   \n",
       "3             5.0  Full Stack    157000.0  ...               0   \n",
       "4             3.0  Full Stack         0.0  ...               0   \n",
       "\n",
       "   Bachelors_Degree  Doctorate_Degree  Highschool  Some_College  Race_Asian  \\\n",
       "0                 0                 0           0             0           0   \n",
       "1                 0                 0           0             0           0   \n",
       "2                 0                 0           0             0           0   \n",
       "3                 0                 0           0             0           0   \n",
       "4                 0                 0           0             0           0   \n",
       "\n",
       "   Race_White  Race_Two_Or_More  Race_Black  Race_Hispanic  \n",
       "0           0                 0           0              0  \n",
       "1           0                 0           0              0  \n",
       "2           0                 0           0              0  \n",
       "3           0                 0           0              0  \n",
       "4           0                 0           0              0  \n",
       "\n",
       "[5 rows x 25 columns]"
      ]
     },
     "execution_count": 8,
     "metadata": {},
     "output_type": "execute_result"
    }
   ],
   "source": [
    "mean = Data['dmaid'].mean()\n",
    "Data = Data.fillna({'company' : 'Amazon' , 'level' : 'L4' , 'tag' : 'Full Stack' , 'dmaid' : mean})\n",
    "Data.head()"
   ]
  },
  {
   "cell_type": "markdown",
   "id": "49974246",
   "metadata": {
    "papermill": {
     "duration": 0.005355,
     "end_time": "2022-08-26T19:58:24.740060",
     "exception": false,
     "start_time": "2022-08-26T19:58:24.734705",
     "status": "completed"
    },
    "tags": []
   },
   "source": [
    "# Duplication"
   ]
  },
  {
   "cell_type": "code",
   "execution_count": 9,
   "id": "d850f064",
   "metadata": {
    "execution": {
     "iopub.execute_input": "2022-08-26T19:58:24.752199Z",
     "iopub.status.busy": "2022-08-26T19:58:24.751899Z",
     "iopub.status.idle": "2022-08-26T19:58:24.832655Z",
     "shell.execute_reply": "2022-08-26T19:58:24.831777Z"
    },
    "papermill": {
     "duration": 0.088713,
     "end_time": "2022-08-26T19:58:24.834323",
     "exception": false,
     "start_time": "2022-08-26T19:58:24.745610",
     "status": "completed"
    },
    "tags": []
   },
   "outputs": [
    {
     "data": {
      "text/plain": [
       "0"
      ]
     },
     "execution_count": 9,
     "metadata": {},
     "output_type": "execute_result"
    }
   ],
   "source": [
    "Data.duplicated().sum()"
   ]
  },
  {
   "cell_type": "markdown",
   "id": "77c88b2c",
   "metadata": {
    "papermill": {
     "duration": 0.004759,
     "end_time": "2022-08-26T19:58:24.844397",
     "exception": false,
     "start_time": "2022-08-26T19:58:24.839638",
     "status": "completed"
    },
    "tags": []
   },
   "source": [
    "# Outliers"
   ]
  },
  {
   "cell_type": "code",
   "execution_count": 10,
   "id": "80eef1e7",
   "metadata": {
    "execution": {
     "iopub.execute_input": "2022-08-26T19:58:24.857319Z",
     "iopub.status.busy": "2022-08-26T19:58:24.856952Z",
     "iopub.status.idle": "2022-08-26T19:58:25.056616Z",
     "shell.execute_reply": "2022-08-26T19:58:25.055523Z"
    },
    "papermill": {
     "duration": 0.209202,
     "end_time": "2022-08-26T19:58:25.059493",
     "exception": false,
     "start_time": "2022-08-26T19:58:24.850291",
     "status": "completed"
    },
    "tags": []
   },
   "outputs": [
    {
     "data": {
      "image/png": "[encoded data removed]",
      "text/plain": [
       "<Figure size 432x288 with 1 Axes>"
      ]
     },
     "metadata": {
      "needs_background": "light"
     },
     "output_type": "display_data"
    }
   ],
   "source": [
    "def boxPlot(df,ft):\n",
    "    df.boxplot(column=[ft])\n",
    "    plt.grid(False)\n",
    "    plt.show()\n",
    "boxPlot(Data,'yearsofexperience')"
   ]
  },
  {
   "cell_type": "code",
   "execution_count": 11,
   "id": "8f7b716f",
   "metadata": {
    "execution": {
     "iopub.execute_input": "2022-08-26T19:58:25.073841Z",
     "iopub.status.busy": "2022-08-26T19:58:25.073523Z",
     "iopub.status.idle": "2022-08-26T19:58:25.078832Z",
     "shell.execute_reply": "2022-08-26T19:58:25.077855Z"
    },
    "papermill": {
     "duration": 0.013763,
     "end_time": "2022-08-26T19:58:25.080561",
     "exception": false,
     "start_time": "2022-08-26T19:58:25.066798",
     "status": "completed"
    },
    "tags": []
   },
   "outputs": [],
   "source": [
    "def outliers(df,ft):\n",
    "    Q1 = df[ft].quantile(0.25)\n",
    "    Q3 = df[ft].quantile(0.75)\n",
    "    IQR = Q3 - Q1\n",
    "    lowerBound = Q1 - 1.5 * IQR\n",
    "    upperBound = Q3 + 1.5 * IQR\n",
    "    lst = df.index[(df[ft] < lowerBound)|(df[ft] > upperBound)]\n",
    "    return lst"
   ]
  },
  {
   "cell_type": "code",
   "execution_count": 12,
   "id": "e6d2cbe3",
   "metadata": {
    "execution": {
     "iopub.execute_input": "2022-08-26T19:58:25.094602Z",
     "iopub.status.busy": "2022-08-26T19:58:25.092970Z",
     "iopub.status.idle": "2022-08-26T19:58:25.108081Z",
     "shell.execute_reply": "2022-08-26T19:58:25.106605Z"
    },
    "papermill": {
     "duration": 0.023833,
     "end_time": "2022-08-26T19:58:25.110175",
     "exception": false,
     "start_time": "2022-08-26T19:58:25.086342",
     "status": "completed"
    },
    "tags": []
   },
   "outputs": [
    {
     "name": "stdout",
     "output_type": "stream",
     "text": [
      "1439\n"
     ]
    },
    {
     "data": {
      "text/plain": [
       "(62642, 25)"
      ]
     },
     "execution_count": 12,
     "metadata": {},
     "output_type": "execute_result"
    }
   ],
   "source": [
    "outlierList=[]\n",
    "for ft in ['yearsofexperience']:\n",
    "    outlierList.extend(outliers(Data,ft))\n",
    "print(len(outlierList))\n",
    "Data.shape"
   ]
  },
  {
   "cell_type": "code",
   "execution_count": 13,
   "id": "9b8e1e24",
   "metadata": {
    "execution": {
     "iopub.execute_input": "2022-08-26T19:58:25.123212Z",
     "iopub.status.busy": "2022-08-26T19:58:25.122878Z",
     "iopub.status.idle": "2022-08-26T19:58:25.141553Z",
     "shell.execute_reply": "2022-08-26T19:58:25.140700Z"
    },
    "papermill": {
     "duration": 0.027821,
     "end_time": "2022-08-26T19:58:25.143589",
     "exception": false,
     "start_time": "2022-08-26T19:58:25.115768",
     "status": "completed"
    },
    "tags": []
   },
   "outputs": [
    {
     "data": {
      "text/plain": [
       "(61203, 25)"
      ]
     },
     "execution_count": 13,
     "metadata": {},
     "output_type": "execute_result"
    }
   ],
   "source": [
    "Data = Data.drop(outlierList)\n",
    "Data.shape"
   ]
  },
  {
   "cell_type": "markdown",
   "id": "70e1a196",
   "metadata": {
    "papermill": {
     "duration": 0.006,
     "end_time": "2022-08-26T19:58:25.155386",
     "exception": false,
     "start_time": "2022-08-26T19:58:25.149386",
     "status": "completed"
    },
    "tags": []
   },
   "source": []
  },
  {
   "cell_type": "code",
   "execution_count": 14,
   "id": "625729d1",
   "metadata": {
    "execution": {
     "iopub.execute_input": "2022-08-26T19:58:25.168088Z",
     "iopub.status.busy": "2022-08-26T19:58:25.167787Z",
     "iopub.status.idle": "2022-08-26T19:58:25.319695Z",
     "shell.execute_reply": "2022-08-26T19:58:25.318943Z"
    },
    "papermill": {
     "duration": 0.160624,
     "end_time": "2022-08-26T19:58:25.321691",
     "exception": false,
     "start_time": "2022-08-26T19:58:25.161067",
     "status": "completed"
    },
    "tags": []
   },
   "outputs": [
    {
     "data": {
      "image/png": "[encoded data removed]",
      "text/plain": [
       "<Figure size 432x288 with 1 Axes>"
      ]
     },
     "metadata": {
      "needs_background": "light"
     },
     "output_type": "display_data"
    }
   ],
   "source": [
    "boxPlot(Data,'yearsofexperience')"
   ]
  }
 ],
 "metadata": {
  "kernelspec": {
   "display_name": "Python 3",
   "language": "python",
   "name": "python3"
  },
  "language_info": {
   "codemirror_mode": {
    "name": "ipython",
    "version": 3
   },
   "file_extension": ".py",
   "mimetype": "text/x-python",
   "name": "python",
   "nbconvert_exporter": "python",
   "pygments_lexer": "ipython3",
   "version": "3.7.12"
  },
  "papermill": {
   "default_parameters": {},
   "duration": 9.670907,
   "end_time": "2022-08-26T19:58:25.953844",
   "environment_variables": {},
   "exception": null,
   "input_path": "__notebook__.ipynb",
   "output_path": "__notebook__.ipynb",
   "parameters": {},
   "start_time": "2022-08-26T19:58:16.282937",
   "version": "2.3.4"
  }
 },
 "nbformat": 4,
 "nbformat_minor": 5
}
